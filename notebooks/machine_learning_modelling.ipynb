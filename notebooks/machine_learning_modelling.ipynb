{
 "cells": [
  {
   "cell_type": "code",
   "execution_count": null,
   "metadata": {},
   "outputs": [],
   "source": [
    "# Importing Pandas an Numpy Libraries to use on manipulating our Data\n",
    "import pandas as pd\n",
    "import numpy as np\n",
    "\n",
    "from sklearn.ensemble import RandomForestClassifier\n",
    "from sklearn.linear_model import LogisticRegression\n",
    "from xgboost import XGBClassifier, XGBRFClassifier\n",
    "from sklearn.model_selection import cross_val_score\n",
    "\n",
    "import sys\n",
    "sys.path.append(\"../\")\n",
    "\n",
    "from scripts.pipeline_modeling import (\n",
    "    run_train_pipeline, \n",
    "    get_pipeline,\n",
    "    dvc_get_data)\n",
    "\n",
    "import os\n",
    "import mlflow"
   ]
  },
  {
   "cell_type": "code",
   "execution_count": null,
   "metadata": {},
   "outputs": [],
   "source": [
    "df = dvc_get_data(path='data/cleaned_data.csv', \n",
    "                version='v1')\n",
    "df = df.drop(columns=['Unnamed: 0'])\n",
    "df.info()"
   ]
  },
  {
   "cell_type": "code",
   "execution_count": null,
   "metadata": {},
   "outputs": [],
   "source": [
    "x = df.drop(columns=['response'])\n",
    "y = df['response'].values"
   ]
  },
  {
   "cell_type": "code",
   "execution_count": null,
   "metadata": {},
   "outputs": [],
   "source": [
    "model = LogisticRegression()\n",
    "run_train_pipeline(model, x, y, \n",
    "                experiment_name='full cleaned dataset',\n",
    "                run_name='vanila logistic regression')\n",
    "\n",
    "mlflow.end_run()"
   ]
  },
  {
   "cell_type": "code",
   "execution_count": null,
   "metadata": {},
   "outputs": [],
   "source": [
    "model = RandomForestClassifier()\n",
    "run_train_pipeline(model, x, y, \n",
    "                experiment_name='full cleaned dataset',\n",
    "                run_name='vanila random forest')\n",
    "mlflow.end_run()"
   ]
  },
  {
   "cell_type": "code",
   "execution_count": null,
   "metadata": {},
   "outputs": [],
   "source": [
    "mlflow.end_run()\n"
   ]
  },
  {
   "cell_type": "code",
   "execution_count": null,
   "metadata": {},
   "outputs": [],
   "source": [
    "model = RandomForestClassifier(max_depth=20)\n",
    "run_train_pipeline(model, x, y, \n",
    "                experiment_name='full cleaned dataset',\n",
    "                run_name='depth 20 random forest')\n",
    "mlflow.end_run()"
   ]
  },
  {
   "cell_type": "markdown",
   "metadata": {},
   "source": [
    "# browser_chrome_mobile dataset\n"
   ]
  },
  {
   "cell_type": "code",
   "execution_count": null,
   "metadata": {},
   "outputs": [],
   "source": [
    "df = dvc_get_data(path='Data/browser_chrome_mobile.csv', \n",
    "                version='v2')\n",
    "df.info()"
   ]
  },
  {
   "cell_type": "code",
   "execution_count": null,
   "metadata": {},
   "outputs": [],
   "source": [
    "x = df.drop(columns=['response'])\n",
    "y = df['response'].values"
   ]
  },
  {
   "cell_type": "code",
   "execution_count": null,
   "metadata": {},
   "outputs": [],
   "source": [
    "mlflow.end_run()\n",
    "model = LogisticRegression()\n",
    "run_train_pipeline(model, x, y, \n",
    "                experiment_name='browser_chrome_mobile dataset',\n",
    "                run_name='vanila logistic regression')"
   ]
  },
  {
   "cell_type": "code",
   "execution_count": null,
   "metadata": {},
   "outputs": [],
   "source": [
    "mlflow.end_run()\n",
    "model = RandomForestClassifier()\n",
    "run_train_pipeline(model, x, y, \n",
    "                experiment_name='browser_chrome_mobile dataset',\n",
    "                run_name='vanilla random forest')"
   ]
  },
  {
   "cell_type": "markdown",
   "metadata": {},
   "source": [
    "# XGBoost\n"
   ]
  },
  {
   "cell_type": "code",
   "execution_count": null,
   "metadata": {},
   "outputs": [],
   "source": [
    "df = dvc_get_data(path='Data/cleaned_data.csv', \n",
    "                version='v1')\n",
    "df = df.drop(columns=['Unnamed: 0'])\n",
    "df.info()"
   ]
  },
  {
   "cell_type": "code",
   "execution_count": null,
   "metadata": {},
   "outputs": [],
   "source": [
    "x = df.drop(columns=['response'])\n",
    "y = df['response'].values"
   ]
  },
  {
   "cell_type": "code",
   "execution_count": null,
   "metadata": {},
   "outputs": [],
   "source": [
    "mlflow.end_run()\n",
    "model = XGBClassifier()\n",
    "run_train_pipeline(model, x, y, \n",
    "                experiment_name='cleaned dataset',\n",
    "                run_name='vanilla XGBoost Classifier')"
   ]
  },
  {
   "cell_type": "code",
   "execution_count": null,
   "metadata": {},
   "outputs": [],
   "source": [
    "mlflow.end_run()\n",
    "model = XGBRFClassifier()\n",
    "run_train_pipeline(model, x, y, \n",
    "                experiment_name='cleaned dataset',\n",
    "                run_name='vanilla XGBoost random forest Classifier')"
   ]
  }
 ],
 "metadata": {
  "kernelspec": {
   "display_name": "Python 3.9.5 64-bit",
   "language": "python",
   "name": "python3"
  },
  "language_info": {
   "codemirror_mode": {
    "name": "ipython",
    "version": 3
   },
   "file_extension": ".py",
   "mimetype": "text/x-python",
   "name": "python",
   "nbconvert_exporter": "python",
   "pygments_lexer": "ipython3",
   "version": "3.9.5"
  },
  "orig_nbformat": 4,
  "vscode": {
   "interpreter": {
    "hash": "916dbcbb3f70747c44a77c7bcd40155683ae19c65e1c03b4aa3499c5328201f1"
   }
  }
 },
 "nbformat": 4,
 "nbformat_minor": 2
}
