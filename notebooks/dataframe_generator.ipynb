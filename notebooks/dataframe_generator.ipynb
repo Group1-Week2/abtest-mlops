{
 "cells": [
  {
   "cell_type": "code",
   "execution_count": null,
   "id": "620294cc",
   "metadata": {},
   "outputs": [],
   "source": [
    "import pandas as pd\n",
    "import sys\n",
    "sys.path.append(\"../\")\n",
    "from Scripts.eda_Read_data import ReadData\n",
    "from Scripts.cleaning import CleanDataFrame"
   ]
  },
  {
   "cell_type": "code",
   "execution_count": null,
   "id": "a2542f00",
   "metadata": {},
   "outputs": [],
   "source": [
    "analyzer = Analysis()\n",
    "cleaner = CleanDataFrame()\n",
    "plotter = Plotters(w=7, h=5)"
   ]
  },
  {
   "cell_type": "code",
   "execution_count": null,
   "id": "0790d937",
   "metadata": {},
   "outputs": [],
   "source": [
    "loader = ReadData()\n",
    "df = loader.read_csv('../Data/raw_data.csv')"
   ]
  },
  {
   "cell_type": "code",
   "execution_count": null,
   "id": "492443a1",
   "metadata": {},
   "outputs": [],
   "source": [
    "df.head()\n",
    "df = cleaner.run_pipeline(df)\n",
    "df.info()"
   ]
  },
  {
   "cell_type": "code",
   "execution_count": null,
   "id": "53d3d5c7",
   "metadata": {},
   "outputs": [],
   "source": [
    "df = df.query(\"yes == 1 | no==1\")\n",
    "df['date'] = pd.to_datetime(df['date'], errors='coerce')"
   ]
  },
  {
   "cell_type": "code",
   "execution_count": null,
   "id": "0bc894ad",
   "metadata": {},
   "outputs": [],
   "source": [
    "df['date_of_week'] = df['date'].dt.day_name()"
   ]
  }
 ],
 "metadata": {
  "kernelspec": {
   "display_name": "Python 3 (ipykernel)",
   "language": "python",
   "name": "python3"
  },
  "language_info": {
   "codemirror_mode": {
    "name": "ipython",
    "version": 3
   },
   "file_extension": ".py",
   "mimetype": "text/x-python",
   "name": "python",
   "nbconvert_exporter": "python",
   "pygments_lexer": "ipython3",
   "version": "3.9.12"
  }
 },
 "nbformat": 4,
 "nbformat_minor": 5
}
