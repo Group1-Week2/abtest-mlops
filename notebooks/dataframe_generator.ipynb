{
 "cells": [
  {
   "cell_type": "code",
   "execution_count": 12,
   "id": "6c4eccfc",
   "metadata": {},
   "outputs": [],
   "source": [
    "import pandas as pd\n",
    "import sys\n",
    "sys.path.append(\"../scripts\")\n",
    "from read_data import ReadData\n",
    "from clean_data import CleanDataFrame\n"
   ]
  },
  {
   "cell_type": "code",
   "execution_count": 13,
   "id": "09b416e0",
   "metadata": {},
   "outputs": [],
   "source": [
    "reader= ReadData()\n",
    "cleaner = CleanDataFrame()"
   ]
  },
  {
   "cell_type": "code",
   "execution_count": 14,
   "id": "a0561424",
   "metadata": {},
   "outputs": [],
   "source": [
    "reader = ReadData()\n",
    "df = reader.read_csv('../data/AdSmartABdata.csv')"
   ]
  },
  {
   "cell_type": "code",
   "execution_count": 15,
   "id": "274abc6e",
   "metadata": {},
   "outputs": [
    {
     "name": "stdout",
     "output_type": "stream",
     "text": [
      "<class 'pandas.core.frame.DataFrame'>\n",
      "RangeIndex: 1243 entries, 0 to 1242\n",
      "Data columns (total 7 columns):\n",
      " #   Column       Non-Null Count  Dtype \n",
      "---  ------       --------------  ----- \n",
      " 0   experiment   1243 non-null   object\n",
      " 1   hour         1243 non-null   int64 \n",
      " 2   platform_os  1243 non-null   int64 \n",
      " 3   browser      1243 non-null   object\n",
      " 4   day_of_week  1243 non-null   object\n",
      " 5   brand        1243 non-null   object\n",
      " 6   response     1243 non-null   int64 \n",
      "dtypes: int64(3), object(4)\n",
      "memory usage: 68.1+ KB\n"
     ]
    }
   ],
   "source": [
    "df.head()\n",
    "df = cleaner.run_pipeline(df)\n",
    "df.info()"
   ]
  },
  {
   "cell_type": "code",
   "execution_count": 16,
   "id": "4c80c888",
   "metadata": {},
   "outputs": [],
   "source": [
    "df.to_csv(\"../data/AdSmartABdata.csv\")\n"
   ]
  },
  {
   "cell_type": "markdown",
   "id": "8f60d402",
   "metadata": {},
   "source": [
    "# Browser"
   ]
  },
  {
   "cell_type": "code",
   "execution_count": 6,
   "id": "e046718a",
   "metadata": {},
   "outputs": [
    {
     "data": {
      "text/html": [
       "<div>\n",
       "<style scoped>\n",
       "    .dataframe tbody tr th:only-of-type {\n",
       "        vertical-align: middle;\n",
       "    }\n",
       "\n",
       "    .dataframe tbody tr th {\n",
       "        vertical-align: top;\n",
       "    }\n",
       "\n",
       "    .dataframe thead th {\n",
       "        text-align: right;\n",
       "    }\n",
       "</style>\n",
       "<table border=\"1\" class=\"dataframe\">\n",
       "  <thead>\n",
       "    <tr style=\"text-align: right;\">\n",
       "      <th></th>\n",
       "      <th>experiment</th>\n",
       "      <th>hour</th>\n",
       "      <th>platform_os</th>\n",
       "      <th>day_of_week</th>\n",
       "      <th>brand</th>\n",
       "      <th>response</th>\n",
       "    </tr>\n",
       "    <tr>\n",
       "      <th>browser</th>\n",
       "      <th></th>\n",
       "      <th></th>\n",
       "      <th></th>\n",
       "      <th></th>\n",
       "      <th></th>\n",
       "      <th></th>\n",
       "    </tr>\n",
       "  </thead>\n",
       "  <tbody>\n",
       "    <tr>\n",
       "      <th>Chrome</th>\n",
       "      <td>2</td>\n",
       "      <td>2</td>\n",
       "      <td>2</td>\n",
       "      <td>2</td>\n",
       "      <td>2</td>\n",
       "      <td>2</td>\n",
       "    </tr>\n",
       "    <tr>\n",
       "      <th>Chrome Mobile</th>\n",
       "      <td>695</td>\n",
       "      <td>695</td>\n",
       "      <td>695</td>\n",
       "      <td>695</td>\n",
       "      <td>695</td>\n",
       "      <td>695</td>\n",
       "    </tr>\n",
       "    <tr>\n",
       "      <th>Chrome Mobile WebView</th>\n",
       "      <td>227</td>\n",
       "      <td>227</td>\n",
       "      <td>227</td>\n",
       "      <td>227</td>\n",
       "      <td>227</td>\n",
       "      <td>227</td>\n",
       "    </tr>\n",
       "    <tr>\n",
       "      <th>Chrome Mobile iOS</th>\n",
       "      <td>1</td>\n",
       "      <td>1</td>\n",
       "      <td>1</td>\n",
       "      <td>1</td>\n",
       "      <td>1</td>\n",
       "      <td>1</td>\n",
       "    </tr>\n",
       "    <tr>\n",
       "      <th>Facebook</th>\n",
       "      <td>156</td>\n",
       "      <td>156</td>\n",
       "      <td>156</td>\n",
       "      <td>156</td>\n",
       "      <td>156</td>\n",
       "      <td>156</td>\n",
       "    </tr>\n",
       "    <tr>\n",
       "      <th>Mobile Safari</th>\n",
       "      <td>14</td>\n",
       "      <td>14</td>\n",
       "      <td>14</td>\n",
       "      <td>14</td>\n",
       "      <td>14</td>\n",
       "      <td>14</td>\n",
       "    </tr>\n",
       "    <tr>\n",
       "      <th>Mobile Safari UI/WKWebView</th>\n",
       "      <td>3</td>\n",
       "      <td>3</td>\n",
       "      <td>3</td>\n",
       "      <td>3</td>\n",
       "      <td>3</td>\n",
       "      <td>3</td>\n",
       "    </tr>\n",
       "    <tr>\n",
       "      <th>Samsung Internet</th>\n",
       "      <td>145</td>\n",
       "      <td>145</td>\n",
       "      <td>145</td>\n",
       "      <td>145</td>\n",
       "      <td>145</td>\n",
       "      <td>145</td>\n",
       "    </tr>\n",
       "  </tbody>\n",
       "</table>\n",
       "</div>"
      ],
      "text/plain": [
       "                            experiment  hour  platform_os  day_of_week  brand  \\\n",
       "browser                                                                         \n",
       "Chrome                               2     2            2            2      2   \n",
       "Chrome Mobile                      695   695          695          695    695   \n",
       "Chrome Mobile WebView              227   227          227          227    227   \n",
       "Chrome Mobile iOS                    1     1            1            1      1   \n",
       "Facebook                           156   156          156          156    156   \n",
       "Mobile Safari                       14    14           14           14     14   \n",
       "Mobile Safari UI/WKWebView           3     3            3            3      3   \n",
       "Samsung Internet                   145   145          145          145    145   \n",
       "\n",
       "                            response  \n",
       "browser                               \n",
       "Chrome                             2  \n",
       "Chrome Mobile                    695  \n",
       "Chrome Mobile WebView            227  \n",
       "Chrome Mobile iOS                  1  \n",
       "Facebook                         156  \n",
       "Mobile Safari                     14  \n",
       "Mobile Safari UI/WKWebView         3  \n",
       "Samsung Internet                 145  "
      ]
     },
     "execution_count": 6,
     "metadata": {},
     "output_type": "execute_result"
    }
   ],
   "source": [
    "df.groupby('browser').count()\n"
   ]
  },
  {
   "cell_type": "code",
   "execution_count": 7,
   "id": "db906fb6",
   "metadata": {},
   "outputs": [],
   "source": [
    "by_browser = df.groupby('browser')\n",
    "browsers = by_browser['experiment'].count() > 100\n",
    "browsers = browsers[browsers==True].index\n",
    "browser_dfs = {}\n",
    "for browser in browsers:\n",
    "    b_df = df.query(f\"browser=='{browser}'\").reset_index(drop=True)\n",
    "    browser_dfs[browser] = b_df\n",
    "\n",
    "for name, b_df in browser_dfs.items():\n",
    "    file_path = f\"../data/browser_{name.replace(' ', '_').lower()}.csv\"\n",
    "    b_df.to_csv(file_path)\n",
    "    # print(file_path)"
   ]
  },
  {
   "cell_type": "code",
   "execution_count": 8,
   "id": "341c1354",
   "metadata": {},
   "outputs": [
    {
     "data": {
      "text/html": [
       "<div>\n",
       "<style scoped>\n",
       "    .dataframe tbody tr th:only-of-type {\n",
       "        vertical-align: middle;\n",
       "    }\n",
       "\n",
       "    .dataframe tbody tr th {\n",
       "        vertical-align: top;\n",
       "    }\n",
       "\n",
       "    .dataframe thead th {\n",
       "        text-align: right;\n",
       "    }\n",
       "</style>\n",
       "<table border=\"1\" class=\"dataframe\">\n",
       "  <thead>\n",
       "    <tr style=\"text-align: right;\">\n",
       "      <th></th>\n",
       "      <th>experiment</th>\n",
       "      <th>hour</th>\n",
       "      <th>platform_os</th>\n",
       "      <th>browser</th>\n",
       "      <th>day_of_week</th>\n",
       "      <th>response</th>\n",
       "    </tr>\n",
       "    <tr>\n",
       "      <th>brand</th>\n",
       "      <th></th>\n",
       "      <th></th>\n",
       "      <th></th>\n",
       "      <th></th>\n",
       "      <th></th>\n",
       "      <th></th>\n",
       "    </tr>\n",
       "  </thead>\n",
       "  <tbody>\n",
       "    <tr>\n",
       "      <th>generic</th>\n",
       "      <td>795</td>\n",
       "      <td>795</td>\n",
       "      <td>795</td>\n",
       "      <td>795</td>\n",
       "      <td>795</td>\n",
       "      <td>795</td>\n",
       "    </tr>\n",
       "    <tr>\n",
       "      <th>known brand</th>\n",
       "      <td>448</td>\n",
       "      <td>448</td>\n",
       "      <td>448</td>\n",
       "      <td>448</td>\n",
       "      <td>448</td>\n",
       "      <td>448</td>\n",
       "    </tr>\n",
       "  </tbody>\n",
       "</table>\n",
       "</div>"
      ],
      "text/plain": [
       "             experiment  hour  platform_os  browser  day_of_week  response\n",
       "brand                                                                     \n",
       "generic             795   795          795      795          795       795\n",
       "known brand         448   448          448      448          448       448"
      ]
     },
     "execution_count": 8,
     "metadata": {},
     "output_type": "execute_result"
    }
   ],
   "source": [
    "df.groupby(\"brand\").count()\n"
   ]
  },
  {
   "cell_type": "code",
   "execution_count": 9,
   "id": "d76e9cd5",
   "metadata": {},
   "outputs": [],
   "source": [
    "for brand in ['generic', 'known brand']:\n",
    "    b_df = df.query(f\"brand=='{brand}'\")\n",
    "    file_path = f\"../data/brand_{brand.replace(' ', '_').lower()}.csv\"\n",
    "    b_df.to_csv(file_path)"
   ]
  },
  {
   "cell_type": "markdown",
   "id": "2231bb13",
   "metadata": {},
   "source": [
    "# OS platform"
   ]
  },
  {
   "cell_type": "code",
   "execution_count": 10,
   "id": "e7b15ff2",
   "metadata": {},
   "outputs": [
    {
     "data": {
      "text/html": [
       "<div>\n",
       "<style scoped>\n",
       "    .dataframe tbody tr th:only-of-type {\n",
       "        vertical-align: middle;\n",
       "    }\n",
       "\n",
       "    .dataframe tbody tr th {\n",
       "        vertical-align: top;\n",
       "    }\n",
       "\n",
       "    .dataframe thead th {\n",
       "        text-align: right;\n",
       "    }\n",
       "</style>\n",
       "<table border=\"1\" class=\"dataframe\">\n",
       "  <thead>\n",
       "    <tr style=\"text-align: right;\">\n",
       "      <th></th>\n",
       "      <th>experiment</th>\n",
       "      <th>hour</th>\n",
       "      <th>browser</th>\n",
       "      <th>day_of_week</th>\n",
       "      <th>brand</th>\n",
       "      <th>response</th>\n",
       "    </tr>\n",
       "    <tr>\n",
       "      <th>platform_os</th>\n",
       "      <th></th>\n",
       "      <th></th>\n",
       "      <th></th>\n",
       "      <th></th>\n",
       "      <th></th>\n",
       "      <th></th>\n",
       "    </tr>\n",
       "  </thead>\n",
       "  <tbody>\n",
       "    <tr>\n",
       "      <th>5</th>\n",
       "      <td>17</td>\n",
       "      <td>17</td>\n",
       "      <td>17</td>\n",
       "      <td>17</td>\n",
       "      <td>17</td>\n",
       "      <td>17</td>\n",
       "    </tr>\n",
       "    <tr>\n",
       "      <th>6</th>\n",
       "      <td>1226</td>\n",
       "      <td>1226</td>\n",
       "      <td>1226</td>\n",
       "      <td>1226</td>\n",
       "      <td>1226</td>\n",
       "      <td>1226</td>\n",
       "    </tr>\n",
       "  </tbody>\n",
       "</table>\n",
       "</div>"
      ],
      "text/plain": [
       "             experiment  hour  browser  day_of_week  brand  response\n",
       "platform_os                                                         \n",
       "5                    17    17       17           17     17        17\n",
       "6                  1226  1226     1226         1226   1226      1226"
      ]
     },
     "execution_count": 10,
     "metadata": {},
     "output_type": "execute_result"
    }
   ],
   "source": [
    "df.groupby('platform_os').count()"
   ]
  },
  {
   "cell_type": "code",
   "execution_count": 11,
   "id": "8015af55",
   "metadata": {},
   "outputs": [],
   "source": [
    "by_platform_os = df.groupby('platform_os')\n",
    "platforms = by_platform_os['experiment'].count() > 100\n",
    "platforms = platforms[platforms==True].index\n",
    "platform_os_dfs = {}\n",
    "for platform_os in platforms:\n",
    "    p_df = df.query(f\"platform_os=='{platform_os}'\").reset_index(drop=True)\n",
    "    platform_os_dfs[platform_os] = p_df\n",
    "\n",
    "for name, p_df in platform_os_dfs.items():\n",
    "    file_path = f\"../data/platform_os_{name}.csv\"\n",
    "    p_df.to_csv(file_path)\n",
    "    # print(file_path)"
   ]
  }
 ],
 "metadata": {
  "kernelspec": {
   "display_name": "Python 3.9.5 64-bit",
   "language": "python",
   "name": "python3"
  },
  "language_info": {
   "codemirror_mode": {
    "name": "ipython",
    "version": 3
   },
   "file_extension": ".py",
   "mimetype": "text/x-python",
   "name": "python",
   "nbconvert_exporter": "python",
   "pygments_lexer": "ipython3",
   "version": "3.9.5"
  },
  "vscode": {
   "interpreter": {
    "hash": "916dbcbb3f70747c44a77c7bcd40155683ae19c65e1c03b4aa3499c5328201f1"
   }
  }
 },
 "nbformat": 4,
 "nbformat_minor": 5
}
