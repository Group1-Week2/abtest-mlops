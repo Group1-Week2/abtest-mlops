{
 "cells": [
  {
   "cell_type": "code",
   "execution_count": null,
   "id": "08835358",
   "metadata": {},
   "outputs": [],
   "source": [
    "import pandas as pd\n",
    "import sys\n",
    "sys.path.append(\"../\")\n",
    "from Scripts.eda_Read_data import ReadData\n",
    "from Scripts.cleaning import CleanDataFrame"
   ]
  },
  {
   "cell_type": "code",
   "execution_count": null,
   "id": "7fd5f294",
   "metadata": {},
   "outputs": [],
   "source": [
    "analyzer = Analysis()\n",
    "cleaner = CleanDataFrame()\n",
    "plotter = Plotters(w=7, h=5)"
   ]
  }
 ],
 "metadata": {
  "kernelspec": {
   "display_name": "Python 3 (ipykernel)",
   "language": "python",
   "name": "python3"
  },
  "language_info": {
   "codemirror_mode": {
    "name": "ipython",
    "version": 3
   },
   "file_extension": ".py",
   "mimetype": "text/x-python",
   "name": "python",
   "nbconvert_exporter": "python",
   "pygments_lexer": "ipython3",
   "version": "3.9.12"
  }
 },
 "nbformat": 4,
 "nbformat_minor": 5
}
