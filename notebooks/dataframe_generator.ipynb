{
 "cells": [
  {
   "cell_type": "code",
   "execution_count": null,
   "id": "6c4eccfc",
   "metadata": {},
   "outputs": [],
   "source": [
    "import pandas as pd\n",
    "import sys\n",
    "sys.path.append(\"../\")\n",
    "from Scripts.eda_Read_data import ReadData\n",
    "from Scripts.cleaning import CleanDataFrame"
   ]
  },
  {
   "cell_type": "code",
   "execution_count": null,
   "id": "09b416e0",
   "metadata": {},
   "outputs": [],
   "source": [
    "analyzer = Analysis()\n",
    "cleaner = CleanDataFrame()\n",
    "plotter = Plotters(w=7, h=5)"
   ]
  },
  {
   "cell_type": "code",
   "execution_count": null,
   "id": "a0561424",
   "metadata": {},
   "outputs": [],
   "source": [
    "loader = ReadData()\n",
    "df = loader.read_csv('../Data/raw_data.csv')"
   ]
  },
  {
   "cell_type": "code",
   "execution_count": null,
   "id": "274abc6e",
   "metadata": {},
   "outputs": [],
   "source": [
    "df.head()\n",
    "df = cleaner.run_pipeline(df)\n",
    "df.info()"
   ]
  },
  {
   "cell_type": "code",
   "execution_count": null,
   "id": "20879c6a",
   "metadata": {},
   "outputs": [],
   "source": [
    "df = df.query(\"yes == 1 | no==1\")\n",
    "df['date'] = pd.to_datetime(df['date'], errors='coerce')"
   ]
  },
  {
   "cell_type": "code",
   "execution_count": null,
   "id": "65fb94d9",
   "metadata": {},
   "outputs": [],
   "source": [
    "df['date_of_week'] = df['date'].dt.day_name()\n",
    "df.drop(['no', 'auction_id'], axis=1,inplace=True)\n",
    "df.rename(columns={'yes': 'response'},inplace=True)\n",
    "df.info()\n",
    "df.to_csv(\"../Data/cleaned_data.csv\")"
   ]
  },
  {
   "cell_type": "code",
   "execution_count": null,
   "id": "e1a1411e",
   "metadata": {},
   "outputs": [],
   "source": [
    "top_four_browsers = df.groupby('browser')['experiment'].count().nlargest(4)\n",
    "top_four_browsers\n",
    "browser_dfs = {}\n",
    "for browser in top_four_browsers.index:\n",
    "    b_df = df.query(f\"browser=='{browser}'\").reset_index(drop=True)\n",
    "    b_df.drop(columns=['browser'], inplace=True)\n",
    "    file_path = f\"../Data/browser_{browser.replace(' ', '_').lower()}.csv\"\n",
    "    print(file_path)\n",
    "    b_df.to_csv(file_path, index=False)\n",
    "for os_name in df.platform_os.unique():\n",
    "    os_df = df.query(f\"platform_os=={os_name}\")\n",
    "    os_df = os_df.drop(columns=['platform_os'])\n",
    "    file_path = f\"../Data/platform_os_{os_name}.csv\"\n",
    "    os_df.to_csv(file_path, index=False)"
   ]
  }
 ],
 "metadata": {
  "kernelspec": {
   "display_name": "Python 3 (ipykernel)",
   "language": "python",
   "name": "python3"
  },
  "language_info": {
   "codemirror_mode": {
    "name": "ipython",
    "version": 3
   },
   "file_extension": ".py",
   "mimetype": "text/x-python",
   "name": "python",
   "nbconvert_exporter": "python",
   "pygments_lexer": "ipython3",
   "version": "3.9.12"
  }
 },
 "nbformat": 4,
 "nbformat_minor": 5
}
