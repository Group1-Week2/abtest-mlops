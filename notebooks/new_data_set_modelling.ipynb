{
 "cells": [
  {
   "cell_type": "code",
   "execution_count": null,
   "metadata": {},
   "outputs": [],
   "source": [
    "# Importing Pandas an Numpy Libraries to use on manipulating our Data\n",
    "import pandas as pd\n",
    "import numpy as np\n",
    "\n",
    "from sklearn.ensemble import RandomForestClassifier\n",
    "from sklearn.linear_model import LogisticRegression\n",
    "from xgboost import XGBClassifier, XGBRFClassifier\n",
    "from sklearn.model_selection import cross_val_score\n",
    "\n",
    "import sys\n",
    "sys.path.append(\"../\")\n",
    "\n",
    "from scripts.pipeline_modeling import (\n",
    "    run_train_pipeline, \n",
    "    get_pipeline,\n",
    "    dvc_get_data)\n",
    "from scripts.clean_data import CleanDataFrame\n",
    "from sklearn.utils import shuffle\n",
    "\n",
    "import os\n",
    "import mlflow"
   ]
  },
  {
   "cell_type": "code",
   "execution_count": null,
   "metadata": {},
   "outputs": [],
   "source": [
    "df = dvc_get_data(path=\"Data/ABtwoCampaignEngView.csv\", version=\"v6\")"
   ]
  },
  {
   "cell_type": "code",
   "execution_count": null,
   "metadata": {},
   "outputs": [],
   "source": [
    "df.info()\n"
   ]
  },
  {
   "cell_type": "code",
   "execution_count": null,
   "metadata": {},
   "outputs": [],
   "source": [
    "cleaner = CleanDataFrame()\n",
    "cleaner.percent_missing(df)"
   ]
  },
  {
   "cell_type": "code",
   "execution_count": null,
   "metadata": {},
   "outputs": [],
   "source": [
    "display(df[df.duplicated('auction_id', False)].head())\n",
    "print(\"Duplicated rows:\", df[df.duplicated('auction_id', False)].shape[0])"
   ]
  },
  {
   "cell_type": "code",
   "execution_count": null,
   "metadata": {},
   "outputs": [],
   "source": [
    "clean_df = cleaner.drop_duplicates(df)\n",
    "clean_df = cleaner.drop_unresponsive(clean_df)\n",
    "clean_df = cleaner.drop_columns(df=clean_df,\n",
    "                columns=['Unnamed: 0', 'auction_id', 'date', 'no'])\n",
    "clean_df.info()"
   ]
  },
  {
   "cell_type": "code",
   "execution_count": null,
   "metadata": {},
   "outputs": [],
   "source": [
    "unique_device_make = clean_df.device_make.unique().shape\n",
    "unique_browsers = clean_df.browser.unique().shape\n",
    "unique_os = clean_df.platform_os.unique().shape\n",
    "\n",
    "print(f\"unique_device_make: {unique_device_make[0]}\")\n",
    "print(f\"unique_browsers: {unique_browsers[0]}\")\n",
    "print(f\"unique_os: {unique_os[0]}\")"
   ]
  }
 ],
 "metadata": {
  "kernelspec": {
   "display_name": "Python 3.9.5 64-bit",
   "language": "python",
   "name": "python3"
  },
  "language_info": {
   "name": "python",
   "version": "3.9.5"
  },
  "orig_nbformat": 4,
  "vscode": {
   "interpreter": {
    "hash": "916dbcbb3f70747c44a77c7bcd40155683ae19c65e1c03b4aa3499c5328201f1"
   }
  }
 },
 "nbformat": 4,
 "nbformat_minor": 2
}
