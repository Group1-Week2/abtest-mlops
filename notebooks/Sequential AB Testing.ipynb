{
 "cells": [
  {
   "cell_type": "markdown",
   "metadata": {},
   "source": [
    "# Import Modules"
   ]
  },
  {
   "cell_type": "code",
   "execution_count": 1,
   "metadata": {},
   "outputs": [],
   "source": [
    "import sys\n",
    "import os\n",
    "import pandas as pd\n",
    "from datetime import timedelta\n",
    "import math\n",
    "import numpy as np\n",
    "import warnings\n",
    "warnings.filterwarnings('ignore')\n",
    "sys.path.append(os.path.abspath(os.path.join('../scripts')))\n",
    "\n",
    "from sequential_testing import Sequential_AB_Helper\n",
    "helper = Sequential_AB_Helper()"
   ]
  },
  {
   "cell_type": "markdown",
   "metadata": {},
   "source": [
    "# Read data\n"
   ]
  },
  {
   "cell_type": "code",
   "execution_count": 2,
   "metadata": {},
   "outputs": [
    {
     "data": {
      "text/html": [
       "<div>\n",
       "<style scoped>\n",
       "    .dataframe tbody tr th:only-of-type {\n",
       "        vertical-align: middle;\n",
       "    }\n",
       "\n",
       "    .dataframe tbody tr th {\n",
       "        vertical-align: top;\n",
       "    }\n",
       "\n",
       "    .dataframe thead th {\n",
       "        text-align: right;\n",
       "    }\n",
       "</style>\n",
       "<table border=\"1\" class=\"dataframe\">\n",
       "  <thead>\n",
       "    <tr style=\"text-align: right;\">\n",
       "      <th></th>\n",
       "      <th>auction_id</th>\n",
       "      <th>experiment</th>\n",
       "      <th>date</th>\n",
       "      <th>hour</th>\n",
       "      <th>device_make</th>\n",
       "      <th>platform_os</th>\n",
       "      <th>browser</th>\n",
       "      <th>yes</th>\n",
       "      <th>no</th>\n",
       "    </tr>\n",
       "  </thead>\n",
       "  <tbody>\n",
       "    <tr>\n",
       "      <th>0</th>\n",
       "      <td>0008ef63-77a7-448b-bd1e-075f42c55e39</td>\n",
       "      <td>exposed</td>\n",
       "      <td>2020-07-10</td>\n",
       "      <td>8</td>\n",
       "      <td>Generic Smartphone</td>\n",
       "      <td>6</td>\n",
       "      <td>Chrome Mobile</td>\n",
       "      <td>0</td>\n",
       "      <td>0</td>\n",
       "    </tr>\n",
       "    <tr>\n",
       "      <th>1</th>\n",
       "      <td>000eabc5-17ce-4137-8efe-44734d914446</td>\n",
       "      <td>exposed</td>\n",
       "      <td>2020-07-07</td>\n",
       "      <td>10</td>\n",
       "      <td>Generic Smartphone</td>\n",
       "      <td>6</td>\n",
       "      <td>Chrome Mobile</td>\n",
       "      <td>0</td>\n",
       "      <td>0</td>\n",
       "    </tr>\n",
       "    <tr>\n",
       "      <th>2</th>\n",
       "      <td>0016d14a-ae18-4a02-a204-6ba53b52f2ed</td>\n",
       "      <td>exposed</td>\n",
       "      <td>2020-07-05</td>\n",
       "      <td>2</td>\n",
       "      <td>E5823</td>\n",
       "      <td>6</td>\n",
       "      <td>Chrome Mobile WebView</td>\n",
       "      <td>0</td>\n",
       "      <td>1</td>\n",
       "    </tr>\n",
       "    <tr>\n",
       "      <th>3</th>\n",
       "      <td>00187412-2932-4542-a8ef-3633901c98d9</td>\n",
       "      <td>control</td>\n",
       "      <td>2020-07-03</td>\n",
       "      <td>15</td>\n",
       "      <td>Samsung SM-A705FN</td>\n",
       "      <td>6</td>\n",
       "      <td>Facebook</td>\n",
       "      <td>0</td>\n",
       "      <td>0</td>\n",
       "    </tr>\n",
       "    <tr>\n",
       "      <th>4</th>\n",
       "      <td>001a7785-d3fe-4e11-a344-c8735acacc2c</td>\n",
       "      <td>control</td>\n",
       "      <td>2020-07-03</td>\n",
       "      <td>15</td>\n",
       "      <td>Generic Smartphone</td>\n",
       "      <td>6</td>\n",
       "      <td>Chrome Mobile</td>\n",
       "      <td>0</td>\n",
       "      <td>0</td>\n",
       "    </tr>\n",
       "  </tbody>\n",
       "</table>\n",
       "</div>"
      ],
      "text/plain": [
       "                             auction_id experiment        date  hour  \\\n",
       "0  0008ef63-77a7-448b-bd1e-075f42c55e39    exposed  2020-07-10     8   \n",
       "1  000eabc5-17ce-4137-8efe-44734d914446    exposed  2020-07-07    10   \n",
       "2  0016d14a-ae18-4a02-a204-6ba53b52f2ed    exposed  2020-07-05     2   \n",
       "3  00187412-2932-4542-a8ef-3633901c98d9    control  2020-07-03    15   \n",
       "4  001a7785-d3fe-4e11-a344-c8735acacc2c    control  2020-07-03    15   \n",
       "\n",
       "          device_make  platform_os                browser  yes  no  \n",
       "0  Generic Smartphone            6          Chrome Mobile    0   0  \n",
       "1  Generic Smartphone            6          Chrome Mobile    0   0  \n",
       "2               E5823            6  Chrome Mobile WebView    0   1  \n",
       "3   Samsung SM-A705FN            6               Facebook    0   0  \n",
       "4  Generic Smartphone            6          Chrome Mobile    0   0  "
      ]
     },
     "execution_count": 2,
     "metadata": {},
     "output_type": "execute_result"
    }
   ],
   "source": [
    "#read the AdSmartABdata\n",
    "data=pd.read_csv('../data/AdSmartABdata.csv')\n",
    "data.head()"
   ]
  },
  {
   "cell_type": "markdown",
   "metadata": {},
   "source": [
    "# Transforming Data In to Bernoli Series\n"
   ]
  },
  {
   "cell_type": "code",
   "execution_count": 3,
   "metadata": {},
   "outputs": [],
   "source": [
    "def transform_data(df):\n",
    "    clean_data = df[df['yes'] == 1].append(df[df['no'] == 1]) \n",
    "\n",
    "    # Data Segmentation into exposed and control groups\n",
    "    exposed_group = clean_data[clean_data['experiment'] == 'exposed']\n",
    "    control_group = clean_data[clean_data['experiment'] == 'control']\n",
    "\n",
    "\n",
    "    #Grouping Data using hours\n",
    "    control_group['hour'] = control_group['hour'].astype('str')\n",
    "    control_group['date'] = control_group['date'].astype('str')\n",
    "    control_group['date+hour'] = pd.to_datetime(control_group['date'] + \" \" + control_group['hour'] + \":00:00\")\n",
    "    control_group['date+hour'] = control_group['date+hour'].map(lambda x:  pd.Timestamp(x, tz=None).strftime('%Y-%m-%d:%H'))\n",
    "\n",
    "    exposed_group['hour'] = exposed_group['hour'].astype('str')\n",
    "    exposed_group['date'] = exposed_group['date'].astype('str')\n",
    "    exposed_group['date+hour'] = pd.to_datetime( exposed_group['date'] + \" \" + exposed_group['hour'] + \":00:00\")\n",
    "    exposed_group['date+hour'] = exposed_group['date+hour'].map( lambda x:  pd.Timestamp(x, tz=None).strftime('%Y-%m-%d:%H'))\n",
    "   \n",
    "    #Generating engagment and yes array based on date+hour column grouping\n",
    "    control_counts = control_group.groupby('date+hour').agg({'yes': 'sum', 'no': 'count'})\n",
    "   \n",
    "    #Generate bernouli series\n",
    "    control_group_bernouli = helper.bernouli_constructor(control_counts['no'],control_counts['yes'])\n",
    "\n",
    "    exposed_counts = exposed_group.groupby('date+hour').agg({'yes': 'sum', 'no': 'count'})\n",
    "\n",
    "    #Generate bernouli series\n",
    "    exposed_group_bernouli = helper.bernouli_constructor(exposed_counts['no'],exposed_counts['yes'])\n",
    "\n",
    "    data_stream = (control_group_bernouli, exposed_group_bernouli)\n",
    "\n",
    "    return data_stream"
   ]
  },
  {
   "cell_type": "code",
   "execution_count": 4,
   "metadata": {},
   "outputs": [],
   "source": [
    "data_stream = transform_data(data)\n"
   ]
  },
  {
   "cell_type": "markdown",
   "metadata": {},
   "source": [
    "# Conditional SPRT Class"
   ]
  },
  {
   "cell_type": "code",
   "execution_count": 5,
   "metadata": {},
   "outputs": [],
   "source": [
    "class ConditionalSPRT:\n",
    "    def __init__(self,exposed,control,odd_ratio,alpha=0.05,beta=0.10,stop=None):\n",
    "        self.x = exposed\n",
    "        self.y = control\n",
    "        self.t1 = odd_ratio\n",
    "        self.alpha = alpha\n",
    "        self.beta = beta\n",
    "        self.stop = stop\n",
    "    def ConditionalSPRT(self,x,y,t1,alpha=0.05,beta=0.10,stop=None):\n",
    "            if t1<=1:\n",
    "                printLog('warning',\"Odd ratio should exceed 1.\")\n",
    "            if (alpha >0.5) | (beta >0.5):\n",
    "                printLog('warning',\"Unrealistic values of alpha or beta were passed.\"\n",
    "                         +\" You should have good reason to use large alpha & beta values\")\n",
    "            if stop!=None:\n",
    "                stop=math.floor(n0)\n",
    "\n",
    "            def comb(n, k):\n",
    "                return math.factorial(n) // math.factorial(k) // math.factorial(n - k)\n",
    "\n",
    "            def lchoose(b, j):\n",
    "                a=[]\n",
    "                if (type(j) is list) | (isinstance(j,np.ndarray)==True):\n",
    "                    if len(j)<2:\n",
    "                        j=j[0]\n",
    "                if (type(j) is list) | (isinstance(j,np.ndarray)==True):\n",
    "                    for k in j:\n",
    "                        n=b\n",
    "                        if (0 <= k) & (k<= n):\n",
    "                            a.append(math.log(comb(n,k)))\n",
    "                        else:\n",
    "                            a.append(0)\n",
    "                else:\n",
    "                    n=b\n",
    "                    k=j\n",
    "                    if (0 <= k) & (k<= n):\n",
    "                        a.append(math.log(comb(n,k)))\n",
    "                    else:\n",
    "                        a.append(0)\n",
    "\n",
    "                return np.array(a)\n",
    "\n",
    "            def g(x,r,n,t1,t0=1):\n",
    "                \"\"\"\n",
    "                 #\n",
    "                  # Meeker's (1981) function `g`, the log probability ratio.\n",
    "                  # \n",
    "                \"\"\"\n",
    "                return -math.log(h(x,r,n,t1))+math.log(h(x,r,n,t0))\n",
    "\n",
    "            def h(x,r,n,t=1):\n",
    "              return f(r,n,t,offset=ftermlog(x,r,n,t))\n",
    "\n",
    "            def f(r,n,t,offset=0):\n",
    "                upper=max(0,r-n)\n",
    "                lower=min(n,r)\n",
    "                rng=list(range(upper,lower+1))\n",
    "                return np.sum(fterm(rng,r,n,t,offset))\n",
    "\n",
    "            def fterm(j,r,n,t,offset=0):\n",
    "                ftlog=ftermlog(j,r,n,t,offset)\n",
    "                return np.array([math.exp(ex) for ex in ftlog])\n",
    "\n",
    "            def ftermlog(j,r,n,t,offset=0):\n",
    "                xx=r-j\n",
    "                lch=lchoose(n,j)\n",
    "                lchdiff=lchoose(n,xx)\n",
    "                lg=np.array(j)*math.log(t)\n",
    "                lgsum=lch+lchdiff\n",
    "                lgsum2=lgsum+lg\n",
    "                lgdiff=lgsum2-offset\n",
    "\n",
    "                return lgdiff\n",
    "\n",
    "            def logf(r,n,t,offset=0):\n",
    "                z=f(r,n,t,offset)\n",
    "                if z>0:\n",
    "                    return math.log(z)\n",
    "                else:\n",
    "                    return np.nan\n",
    "\n",
    "            def clowerUpper(r,n,t1c,t0=1,alpha=0.05,beta=0.10):\n",
    "                offset=ftermlog(math.ceil(r/2),r,n,t1c)\n",
    "                z=logf(r,n,t1c,logf(r,n,t0,offset)+offset)\n",
    "                a=-math.log(alpha/(1-beta))\n",
    "                b=math.log(beta/(1-alpha))\n",
    "                lower=b\n",
    "                upper=1+a\n",
    "                return (np.array([lower,upper])+z)/math.log(t1c/t0)\n",
    "\n",
    "            l=math.log(beta/(1-alpha))\n",
    "            u=-math.log(alpha/(1-beta))\n",
    "            sample_size=min(len(x),len(y))\n",
    "            n=np.array(range(1,sample_size+1))\n",
    "\n",
    "            if stop!=None:\n",
    "                n=np.array([z for z in n if z<=stop])\n",
    "            x1=np.cumsum(x[n-1])\n",
    "            r=x1+np.cumsum(y[n-1])\n",
    "            stats=np.array(list(map(g,x1, r, n, [t1]*len(x1)))) #recurcively calls g\n",
    "             #\n",
    "              # Perform the test by finding the first index, if any, at which `stats`\n",
    "              # falls outside the open interval (l, u).\n",
    "              #\n",
    "            clu=list(map(clowerUpper,r,n,[t1]*len(r),[1]*len(r),[alpha]*len(r), [beta]*len(r)))\n",
    "            limits=[]\n",
    "            for v in clu:\n",
    "                inArray=[]\n",
    "                for vin in v:\n",
    "                    inArray.append(math.floor(vin))\n",
    "                limits.append(np.array(inArray))\n",
    "            limits=np.array(limits)\n",
    "\n",
    "            k=np.where((stats>=u) | (stats<=l))\n",
    "            cvalues=stats[k]\n",
    "            if cvalues.shape[0]<1:\n",
    "                k= np.nan\n",
    "                outcome='Unable to conclude.Needs more sample.'\n",
    "            else:\n",
    "                k=np.min(k)\n",
    "                if stats[k]>=u:\n",
    "                    outcome=f'Exposed group produced a statistically significant increase.'\n",
    "                else:\n",
    "                    outcome='Their is no statistically significant difference between two test groups'\n",
    "            if (stop!=None) & (k==np.nan):\n",
    "              #\n",
    "              # Truncate at trial stop, using Meeker's H0-conservative formula (2.2).\n",
    "              # Leave k=NA to indicate the decision was made due to truncation.\n",
    "              #\n",
    "                c1=clowerUpper(r,stop,t1,alpha,beta)\n",
    "                c1=math.floor(np.mean(c1)-0.5)\n",
    "                if x1[n0]<=c1:\n",
    "                    truncate_decision='h0'\n",
    "                    outcome='Maximum Limit Decision. The aproximate decision point shows their is no statistically significant difference between two test groups'\n",
    "                else:\n",
    "                    truncate_decision='h1'\n",
    "                    outcome=f'Maximum Limit Decision. The aproximate decision point shows exposed group produced a statistically significant increase.'\n",
    "                truncated=stop\n",
    "            else:\n",
    "                truncate_decision='Non'\n",
    "                truncated=np.nan\n",
    "            return (outcome,n, k,l,u,truncated,truncate_decision,x1,r,stats,limits)"
   ]
  },
  {
   "cell_type": "code",
   "execution_count": 6,
   "metadata": {},
   "outputs": [],
   "source": [
    "# Conditional SPRT Computing\n",
    "odd_ratio =1.01\n",
    "control = np.array(data_stream[0])\n",
    "exposed = np.array(data_stream[1])\n",
    "\n",
    "conditional_sprt = ConditionalSPRT(exposed=exposed,control=control,odd_ratio=odd_ratio)\n",
    "result = conditional_sprt.ConditionalSPRT(x=conditional_sprt.x,y=conditional_sprt.y,t1=conditional_sprt.t1)"
   ]
  },
  {
   "cell_type": "code",
   "execution_count": 7,
   "metadata": {},
   "outputs": [
    {
     "data": {
      "text/plain": [
       "'Unable to conclude.Needs more sample.'"
      ]
     },
     "execution_count": 7,
     "metadata": {},
     "output_type": "execute_result"
    }
   ],
   "source": [
    "#if cvalues.shape[0]<1:\n",
    "result[0]\n"
   ]
  },
  {
   "cell_type": "code",
   "execution_count": 8,
   "metadata": {},
   "outputs": [],
   "source": [
    "#Plot the result\n",
    "limits = result[10]\n",
    "lower_limit = limits[:, 0]\n",
    "upper_limit = limits[:,1]\n",
    "x1 = result[7]\n",
    "r = result[8]"
   ]
  },
  {
   "cell_type": "code",
   "execution_count": 9,
   "metadata": {},
   "outputs": [
    {
     "data": {
      "image/png": "[encoded data removed]",
      "text/plain": [
       "<Figure size 432x288 with 1 Axes>"
      ]
     },
     "metadata": {
      "needs_background": "light"
     },
     "output_type": "display_data"
    }
   ],
   "source": [
    "helper.plot_cumulative(upper_limit, lower_limit, r, x1)"
   ]
  }
 ],
 "metadata": {
  "kernelspec": {
   "display_name": "Python 3.8.10 64-bit",
   "language": "python",
   "name": "python3"
  },
  "language_info": {
   "codemirror_mode": {
    "name": "ipython",
    "version": 3
   },
   "file_extension": ".py",
   "mimetype": "text/x-python",
   "name": "python",
   "nbconvert_exporter": "python",
   "pygments_lexer": "ipython3",
   "version": "3.9.5"
  },
  "orig_nbformat": 4,
  "vscode": {
   "interpreter": {
    "hash": "916dbcbb3f70747c44a77c7bcd40155683ae19c65e1c03b4aa3499c5328201f1"
   }
  }
 },
 "nbformat": 4,
 "nbformat_minor": 2
}
