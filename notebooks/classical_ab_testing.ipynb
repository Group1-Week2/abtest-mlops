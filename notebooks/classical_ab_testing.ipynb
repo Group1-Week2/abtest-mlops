{
  "cells": [
    {
      "cell_type": "code",
      "source": [
        "from google.colab import drive\n",
        "drive.mount('/gdrive')\n",
        "%cd /gdrive"
      ],
      "metadata": {
        "id": "dd9sedHFjs1s",
        "outputId": "8685b9b7-b9a9-4ff5-e2ae-32999097b2ab",
        "colab": {
          "base_uri": "https://localhost:8080/"
        }
      },
      "id": "dd9sedHFjs1s",
      "execution_count": 28,
      "outputs": [
        {
          "output_type": "stream",
          "name": "stdout",
          "text": [
            "Drive already mounted at /gdrive; to attempt to forcibly remount, call drive.mount(\"/gdrive\", force_remount=True).\n",
            "/gdrive\n"
          ]
        }
      ]
    },
    {
      "cell_type": "code",
      "source": [
        "! pip install pymc3"
      ],
      "metadata": {
        "colab": {
          "base_uri": "https://localhost:8080/"
        },
        "id": "t4xaJZrtktl5",
        "outputId": "9a4432a2-a49c-478e-99eb-190663400cb6"
      },
      "id": "t4xaJZrtktl5",
      "execution_count": 29,
      "outputs": [
        {
          "output_type": "stream",
          "name": "stdout",
          "text": [
            "Looking in indexes: https://pypi.org/simple, https://us-python.pkg.dev/colab-wheels/public/simple/\n",
            "Requirement already satisfied: pymc3 in /usr/local/lib/python3.7/dist-packages (3.11.5)\n",
            "Requirement already satisfied: deprecat in /usr/local/lib/python3.7/dist-packages (from pymc3) (2.1.1)\n",
            "Requirement already satisfied: theano-pymc==1.1.2 in /usr/local/lib/python3.7/dist-packages (from pymc3) (1.1.2)\n",
            "Requirement already satisfied: fastprogress>=0.2.0 in /usr/local/lib/python3.7/dist-packages (from pymc3) (1.0.3)\n",
            "Requirement already satisfied: typing-extensions>=3.7.4 in /usr/local/lib/python3.7/dist-packages (from pymc3) (4.1.1)\n",
            "Requirement already satisfied: dill in /usr/local/lib/python3.7/dist-packages (from pymc3) (0.3.5.1)\n",
            "Requirement already satisfied: scipy<1.8.0,>=1.7.3 in /usr/local/lib/python3.7/dist-packages (from pymc3) (1.7.3)\n",
            "Requirement already satisfied: cachetools>=4.2.1 in /usr/local/lib/python3.7/dist-packages (from pymc3) (4.2.4)\n",
            "Requirement already satisfied: arviz>=0.11.0 in /usr/local/lib/python3.7/dist-packages (from pymc3) (0.12.1)\n",
            "Requirement already satisfied: patsy>=0.5.1 in /usr/local/lib/python3.7/dist-packages (from pymc3) (0.5.2)\n",
            "Requirement already satisfied: numpy<1.22.2,>=1.15.0 in /usr/local/lib/python3.7/dist-packages (from pymc3) (1.21.6)\n",
            "Requirement already satisfied: semver>=2.13.0 in /usr/local/lib/python3.7/dist-packages (from pymc3) (2.13.0)\n",
            "Requirement already satisfied: pandas>=0.24.0 in /usr/local/lib/python3.7/dist-packages (from pymc3) (1.3.5)\n",
            "Requirement already satisfied: filelock in /usr/local/lib/python3.7/dist-packages (from theano-pymc==1.1.2->pymc3) (3.8.0)\n",
            "Requirement already satisfied: xarray-einstats>=0.2 in /usr/local/lib/python3.7/dist-packages (from arviz>=0.11.0->pymc3) (0.2.2)\n",
            "Requirement already satisfied: xarray>=0.16.1 in /usr/local/lib/python3.7/dist-packages (from arviz>=0.11.0->pymc3) (0.20.2)\n",
            "Requirement already satisfied: matplotlib>=3.0 in /usr/local/lib/python3.7/dist-packages (from arviz>=0.11.0->pymc3) (3.2.2)\n",
            "Requirement already satisfied: netcdf4 in /usr/local/lib/python3.7/dist-packages (from arviz>=0.11.0->pymc3) (1.6.0)\n",
            "Requirement already satisfied: setuptools>=38.4 in /usr/local/lib/python3.7/dist-packages (from arviz>=0.11.0->pymc3) (57.4.0)\n",
            "Requirement already satisfied: packaging in /usr/local/lib/python3.7/dist-packages (from arviz>=0.11.0->pymc3) (21.3)\n",
            "Requirement already satisfied: pyparsing!=2.0.4,!=2.1.2,!=2.1.6,>=2.0.1 in /usr/local/lib/python3.7/dist-packages (from matplotlib>=3.0->arviz>=0.11.0->pymc3) (3.0.9)\n",
            "Requirement already satisfied: kiwisolver>=1.0.1 in /usr/local/lib/python3.7/dist-packages (from matplotlib>=3.0->arviz>=0.11.0->pymc3) (1.4.4)\n",
            "Requirement already satisfied: python-dateutil>=2.1 in /usr/local/lib/python3.7/dist-packages (from matplotlib>=3.0->arviz>=0.11.0->pymc3) (2.8.2)\n",
            "Requirement already satisfied: cycler>=0.10 in /usr/local/lib/python3.7/dist-packages (from matplotlib>=3.0->arviz>=0.11.0->pymc3) (0.11.0)\n",
            "Requirement already satisfied: pytz>=2017.3 in /usr/local/lib/python3.7/dist-packages (from pandas>=0.24.0->pymc3) (2022.2.1)\n",
            "Requirement already satisfied: six in /usr/local/lib/python3.7/dist-packages (from patsy>=0.5.1->pymc3) (1.15.0)\n",
            "Requirement already satisfied: importlib-metadata in /usr/local/lib/python3.7/dist-packages (from xarray>=0.16.1->arviz>=0.11.0->pymc3) (4.12.0)\n",
            "Requirement already satisfied: wrapt<2,>=1.10 in /usr/local/lib/python3.7/dist-packages (from deprecat->pymc3) (1.14.1)\n",
            "Requirement already satisfied: zipp>=0.5 in /usr/local/lib/python3.7/dist-packages (from importlib-metadata->xarray>=0.16.1->arviz>=0.11.0->pymc3) (3.8.1)\n",
            "Requirement already satisfied: cftime in /usr/local/lib/python3.7/dist-packages (from netcdf4->arviz>=0.11.0->pymc3) (1.6.1)\n"
          ]
        }
      ]
    },
    {
      "cell_type": "code",
      "execution_count": 30,
      "id": "2cdb88d8",
      "metadata": {
        "id": "2cdb88d8",
        "outputId": "ac77260a-9f0f-4b15-eab3-7f535d0e86c7",
        "colab": {
          "base_uri": "https://localhost:8080/",
          "height": 206
        }
      },
      "outputs": [
        {
          "output_type": "execute_result",
          "data": {
            "text/plain": [
              "                             auction_id experiment        date  hour  \\\n",
              "0  0008ef63-77a7-448b-bd1e-075f42c55e39    exposed  2020-07-10     8   \n",
              "1  000eabc5-17ce-4137-8efe-44734d914446    exposed  2020-07-07    10   \n",
              "2  0016d14a-ae18-4a02-a204-6ba53b52f2ed    exposed  2020-07-05     2   \n",
              "3  00187412-2932-4542-a8ef-3633901c98d9    control  2020-07-03    15   \n",
              "4  001a7785-d3fe-4e11-a344-c8735acacc2c    control  2020-07-03    15   \n",
              "\n",
              "          device_make  platform_os                browser  yes  no  \n",
              "0  Generic Smartphone            6          Chrome Mobile    0   0  \n",
              "1  Generic Smartphone            6          Chrome Mobile    0   0  \n",
              "2               E5823            6  Chrome Mobile WebView    0   1  \n",
              "3   Samsung SM-A705FN            6               Facebook    0   0  \n",
              "4  Generic Smartphone            6          Chrome Mobile    0   0  "
            ],
            "text/html": [
              "\n",
              "  <div id=\"df-f18a0fcb-ba6b-4570-98a5-1d9f8455cede\">\n",
              "    <div class=\"colab-df-container\">\n",
              "      <div>\n",
              "<style scoped>\n",
              "    .dataframe tbody tr th:only-of-type {\n",
              "        vertical-align: middle;\n",
              "    }\n",
              "\n",
              "    .dataframe tbody tr th {\n",
              "        vertical-align: top;\n",
              "    }\n",
              "\n",
              "    .dataframe thead th {\n",
              "        text-align: right;\n",
              "    }\n",
              "</style>\n",
              "<table border=\"1\" class=\"dataframe\">\n",
              "  <thead>\n",
              "    <tr style=\"text-align: right;\">\n",
              "      <th></th>\n",
              "      <th>auction_id</th>\n",
              "      <th>experiment</th>\n",
              "      <th>date</th>\n",
              "      <th>hour</th>\n",
              "      <th>device_make</th>\n",
              "      <th>platform_os</th>\n",
              "      <th>browser</th>\n",
              "      <th>yes</th>\n",
              "      <th>no</th>\n",
              "    </tr>\n",
              "  </thead>\n",
              "  <tbody>\n",
              "    <tr>\n",
              "      <th>0</th>\n",
              "      <td>0008ef63-77a7-448b-bd1e-075f42c55e39</td>\n",
              "      <td>exposed</td>\n",
              "      <td>2020-07-10</td>\n",
              "      <td>8</td>\n",
              "      <td>Generic Smartphone</td>\n",
              "      <td>6</td>\n",
              "      <td>Chrome Mobile</td>\n",
              "      <td>0</td>\n",
              "      <td>0</td>\n",
              "    </tr>\n",
              "    <tr>\n",
              "      <th>1</th>\n",
              "      <td>000eabc5-17ce-4137-8efe-44734d914446</td>\n",
              "      <td>exposed</td>\n",
              "      <td>2020-07-07</td>\n",
              "      <td>10</td>\n",
              "      <td>Generic Smartphone</td>\n",
              "      <td>6</td>\n",
              "      <td>Chrome Mobile</td>\n",
              "      <td>0</td>\n",
              "      <td>0</td>\n",
              "    </tr>\n",
              "    <tr>\n",
              "      <th>2</th>\n",
              "      <td>0016d14a-ae18-4a02-a204-6ba53b52f2ed</td>\n",
              "      <td>exposed</td>\n",
              "      <td>2020-07-05</td>\n",
              "      <td>2</td>\n",
              "      <td>E5823</td>\n",
              "      <td>6</td>\n",
              "      <td>Chrome Mobile WebView</td>\n",
              "      <td>0</td>\n",
              "      <td>1</td>\n",
              "    </tr>\n",
              "    <tr>\n",
              "      <th>3</th>\n",
              "      <td>00187412-2932-4542-a8ef-3633901c98d9</td>\n",
              "      <td>control</td>\n",
              "      <td>2020-07-03</td>\n",
              "      <td>15</td>\n",
              "      <td>Samsung SM-A705FN</td>\n",
              "      <td>6</td>\n",
              "      <td>Facebook</td>\n",
              "      <td>0</td>\n",
              "      <td>0</td>\n",
              "    </tr>\n",
              "    <tr>\n",
              "      <th>4</th>\n",
              "      <td>001a7785-d3fe-4e11-a344-c8735acacc2c</td>\n",
              "      <td>control</td>\n",
              "      <td>2020-07-03</td>\n",
              "      <td>15</td>\n",
              "      <td>Generic Smartphone</td>\n",
              "      <td>6</td>\n",
              "      <td>Chrome Mobile</td>\n",
              "      <td>0</td>\n",
              "      <td>0</td>\n",
              "    </tr>\n",
              "  </tbody>\n",
              "</table>\n",
              "</div>\n",
              "      <button class=\"colab-df-convert\" onclick=\"convertToInteractive('df-f18a0fcb-ba6b-4570-98a5-1d9f8455cede')\"\n",
              "              title=\"Convert this dataframe to an interactive table.\"\n",
              "              style=\"display:none;\">\n",
              "        \n",
              "  <svg xmlns=\"http://www.w3.org/2000/svg\" height=\"24px\"viewBox=\"0 0 24 24\"\n",
              "       width=\"24px\">\n",
              "    <path d=\"M0 0h24v24H0V0z\" fill=\"none\"/>\n",
              "    <path d=\"M18.56 5.44l.94 2.06.94-2.06 2.06-.94-2.06-.94-.94-2.06-.94 2.06-2.06.94zm-11 1L8.5 8.5l.94-2.06 2.06-.94-2.06-.94L8.5 2.5l-.94 2.06-2.06.94zm10 10l.94 2.06.94-2.06 2.06-.94-2.06-.94-.94-2.06-.94 2.06-2.06.94z\"/><path d=\"M17.41 7.96l-1.37-1.37c-.4-.4-.92-.59-1.43-.59-.52 0-1.04.2-1.43.59L10.3 9.45l-7.72 7.72c-.78.78-.78 2.05 0 2.83L4 21.41c.39.39.9.59 1.41.59.51 0 1.02-.2 1.41-.59l7.78-7.78 2.81-2.81c.8-.78.8-2.07 0-2.86zM5.41 20L4 18.59l7.72-7.72 1.47 1.35L5.41 20z\"/>\n",
              "  </svg>\n",
              "      </button>\n",
              "      \n",
              "  <style>\n",
              "    .colab-df-container {\n",
              "      display:flex;\n",
              "      flex-wrap:wrap;\n",
              "      gap: 12px;\n",
              "    }\n",
              "\n",
              "    .colab-df-convert {\n",
              "      background-color: #E8F0FE;\n",
              "      border: none;\n",
              "      border-radius: 50%;\n",
              "      cursor: pointer;\n",
              "      display: none;\n",
              "      fill: #1967D2;\n",
              "      height: 32px;\n",
              "      padding: 0 0 0 0;\n",
              "      width: 32px;\n",
              "    }\n",
              "\n",
              "    .colab-df-convert:hover {\n",
              "      background-color: #E2EBFA;\n",
              "      box-shadow: 0px 1px 2px rgba(60, 64, 67, 0.3), 0px 1px 3px 1px rgba(60, 64, 67, 0.15);\n",
              "      fill: #174EA6;\n",
              "    }\n",
              "\n",
              "    [theme=dark] .colab-df-convert {\n",
              "      background-color: #3B4455;\n",
              "      fill: #D2E3FC;\n",
              "    }\n",
              "\n",
              "    [theme=dark] .colab-df-convert:hover {\n",
              "      background-color: #434B5C;\n",
              "      box-shadow: 0px 1px 3px 1px rgba(0, 0, 0, 0.15);\n",
              "      filter: drop-shadow(0px 1px 2px rgba(0, 0, 0, 0.3));\n",
              "      fill: #FFFFFF;\n",
              "    }\n",
              "  </style>\n",
              "\n",
              "      <script>\n",
              "        const buttonEl =\n",
              "          document.querySelector('#df-f18a0fcb-ba6b-4570-98a5-1d9f8455cede button.colab-df-convert');\n",
              "        buttonEl.style.display =\n",
              "          google.colab.kernel.accessAllowed ? 'block' : 'none';\n",
              "\n",
              "        async function convertToInteractive(key) {\n",
              "          const element = document.querySelector('#df-f18a0fcb-ba6b-4570-98a5-1d9f8455cede');\n",
              "          const dataTable =\n",
              "            await google.colab.kernel.invokeFunction('convertToInteractive',\n",
              "                                                     [key], {});\n",
              "          if (!dataTable) return;\n",
              "\n",
              "          const docLinkHtml = 'Like what you see? Visit the ' +\n",
              "            '<a target=\"_blank\" href=https://colab.research.google.com/notebooks/data_table.ipynb>data table notebook</a>'\n",
              "            + ' to learn more about interactive tables.';\n",
              "          element.innerHTML = '';\n",
              "          dataTable['output_type'] = 'display_data';\n",
              "          await google.colab.output.renderOutput(dataTable, element);\n",
              "          const docLink = document.createElement('div');\n",
              "          docLink.innerHTML = docLinkHtml;\n",
              "          element.appendChild(docLink);\n",
              "        }\n",
              "      </script>\n",
              "    </div>\n",
              "  </div>\n",
              "  "
            ]
          },
          "metadata": {},
          "execution_count": 30
        }
      ],
      "source": [
        "import pandas as pd\n",
        "import numpy as np\n",
        "import seaborn as sns\n",
        "import matplotlib.pyplot as plt\n",
        "import pymc3 as pm\n",
        "import arviz as az\n",
        "\n",
        "df = pd.read_csv(\"My Drive/10X/Week2/AdSmartABdata.csv\")\n",
        "df.head()"
      ]
    },
    {
      "cell_type": "code",
      "source": [
        "df.dtypes"
      ],
      "metadata": {
        "id": "enon-jIVo1Pv",
        "outputId": "0f176eb9-b56b-4a38-f3b2-7cc1ed6ddfb7",
        "colab": {
          "base_uri": "https://localhost:8080/"
        }
      },
      "id": "enon-jIVo1Pv",
      "execution_count": 31,
      "outputs": [
        {
          "output_type": "execute_result",
          "data": {
            "text/plain": [
              "auction_id     object\n",
              "experiment     object\n",
              "date           object\n",
              "hour            int64\n",
              "device_make    object\n",
              "platform_os     int64\n",
              "browser        object\n",
              "yes             int64\n",
              "no              int64\n",
              "dtype: object"
            ]
          },
          "metadata": {},
          "execution_count": 31
        }
      ]
    },
    {
      "cell_type": "code",
      "source": [
        "df.shape"
      ],
      "metadata": {
        "id": "V23ahBeHo4En",
        "outputId": "b56ed63d-1fc5-404a-e405-1e8b3131322e",
        "colab": {
          "base_uri": "https://localhost:8080/"
        }
      },
      "id": "V23ahBeHo4En",
      "execution_count": 32,
      "outputs": [
        {
          "output_type": "execute_result",
          "data": {
            "text/plain": [
              "(8077, 9)"
            ]
          },
          "metadata": {},
          "execution_count": 32
        }
      ]
    },
    {
      "cell_type": "code",
      "source": [
        "df_control = df[df['experiment'] == 'control']\n",
        "n_con = df_control.shape[0]\n",
        "print('number of total users that are exposed to the control ads are ' + str(n_con))"
      ],
      "metadata": {
        "id": "9M1Cb5rsprpE",
        "outputId": "5c2700a8-40b8-43e8-ff71-08c727c94611",
        "colab": {
          "base_uri": "https://localhost:8080/"
        }
      },
      "id": "9M1Cb5rsprpE",
      "execution_count": 33,
      "outputs": [
        {
          "output_type": "stream",
          "name": "stdout",
          "text": [
            "number of total users that are exposed to the control ads are 4071\n"
          ]
        }
      ]
    },
    {
      "cell_type": "code",
      "source": [
        "df_control_yes = df_control[df_control['yes'] == 1]\n",
        "x_con = df_control_yes.shape[0]\n",
        "print('number of converted users that are exposed to the control ads are ' + str(x_con))"
      ],
      "metadata": {
        "colab": {
          "base_uri": "https://localhost:8080/"
        },
        "id": "Cm6t3EfA_yeO",
        "outputId": "77b05814-f416-4550-dcf2-97aeb4989790"
      },
      "id": "Cm6t3EfA_yeO",
      "execution_count": 34,
      "outputs": [
        {
          "output_type": "stream",
          "name": "stdout",
          "text": [
            "number of converted users that are exposed to the control ads are 264\n"
          ]
        }
      ]
    },
    {
      "cell_type": "code",
      "source": [
        "df_exposed = df[df['experiment'] == 'exposed']\n",
        "n_exp = df_exposed.shape[0]\n",
        "print('number of total users that are exposed to the smart ads are ' + str(n_exp))"
      ],
      "metadata": {
        "id": "lc9sNizSqDn8",
        "colab": {
          "base_uri": "https://localhost:8080/"
        },
        "outputId": "1e7d3c8f-2f30-49c4-b82c-9f26788a5464"
      },
      "id": "lc9sNizSqDn8",
      "execution_count": 35,
      "outputs": [
        {
          "output_type": "stream",
          "name": "stdout",
          "text": [
            "number of total users that are exposed to the smart ads are 4006\n"
          ]
        }
      ]
    },
    {
      "cell_type": "code",
      "source": [
        "df_exposed_yes = df_exposed[df_exposed['yes'] == 1]\n",
        "x_exp = df_exposed_yes.shape[0]\n",
        "print('number of converted users that are exposed to the smart ads are ' + str(x_exp))"
      ],
      "metadata": {
        "colab": {
          "base_uri": "https://localhost:8080/"
        },
        "id": "B-w1rUCOAGoF",
        "outputId": "4b00e2b2-d719-44b8-d31b-f9a371a9d636"
      },
      "id": "B-w1rUCOAGoF",
      "execution_count": 36,
      "outputs": [
        {
          "output_type": "stream",
          "name": "stdout",
          "text": [
            "number of converted users that are exposed to the smart ads are 308\n"
          ]
        }
      ]
    },
    {
      "cell_type": "code",
      "source": [
        "# Generate prior draws\n",
        "prior_draws = np.random.beta(1, 1, 100000)\n",
        "\n",
        "# Plot the prior\n",
        "sns.kdeplot(prior_draws, shade=True, label=\"prior\")\n",
        "plt.show()"
      ],
      "metadata": {
        "id": "ycunGY9OBCmg",
        "colab": {
          "base_uri": "https://localhost:8080/",
          "height": 265
        },
        "outputId": "3c1e4918-daff-4af1-81fa-f34e1c2871a7"
      },
      "id": "ycunGY9OBCmg",
      "execution_count": 37,
      "outputs": [
        {
          "output_type": "display_data",
          "data": {
            "text/plain": [
              "<Figure size 432x288 with 1 Axes>"
            ],
            "image/png": "[encoded data removed]"
          },
          "metadata": {
            "needs_background": "light"
          }
        }
      ]
    },
    {
      "cell_type": "markdown",
      "source": [],
      "metadata": {
        "id": "k32MitRxPCVQ"
      },
      "id": "k32MitRxPCVQ"
    },
    {
      "cell_type": "code",
      "source": [
        "# Extract the yes column for each group\n",
        "yes_exp = df_exposed[\"yes\"]\n",
        "yes_con = df_control[\"yes\"]"
      ],
      "metadata": {
        "id": "GkdAONKSJcYO"
      },
      "id": "GkdAONKSJcYO",
      "execution_count": 38,
      "outputs": []
    },
    {
      "cell_type": "markdown",
      "source": [
        "### Simulate beta posterior\n",
        "We know that if the prior is Beta(a,b), then the posterior is Beta(x,y), with: \n",
        "\n",
        "x = Number Of Successes + a \n",
        "\n",
        "y = Number Of Observations − Number Of Successes + b"
      ],
      "metadata": {
        "id": "r9fN-_-EProA"
      },
      "id": "r9fN-_-EProA"
    },
    {
      "cell_type": "code",
      "source": [
        "def simulate_beta_posterior(trials, beta_prior_a, beta_prior_b):    \n",
        "  num_successes = np.sum(trials)    \n",
        "  posterior_draws = np.random.beta(      \n",
        "      num_successes + beta_prior_a,       \n",
        "      len(trials) - num_successes + beta_prior_b, 10000    \n",
        "      )\n",
        "  return posterior_draws\n",
        "\n",
        "# Simulate posterior draws for each product\n",
        "exp_posterior = simulate_beta_posterior(yes_exp, 1, 1)\n",
        "con_posterior = simulate_beta_posterior(yes_con, 1, 1)\n",
        "\n",
        "sns.kdeplot(exp_posterior, shade=True)\n",
        "sns.kdeplot(con_posterior, shade=True)\n",
        "plt.legend(labels=[\"exposed\",\"control\"])\n",
        "plt.show()"
      ],
      "metadata": {
        "colab": {
          "base_uri": "https://localhost:8080/",
          "height": 265
        },
        "id": "DaL0QUJPPSDg",
        "outputId": "eb84d8c8-2361-4ba7-b1b2-5579f20a04bc"
      },
      "id": "DaL0QUJPPSDg",
      "execution_count": 39,
      "outputs": [
        {
          "output_type": "display_data",
          "data": {
            "text/plain": [
              "<Figure size 432x288 with 1 Axes>"
            ],
            "image/png": "[encoded data removed]"
          },
          "metadata": {
            "needs_background": "light"
          }
        }
      ]
    },
    {
      "cell_type": "markdown",
      "source": [
        "Judging from the plot we are more certain about the retention rate estimate of the control ads than for the smart ads because the posterior distribution for the control group is higher, indicating less uncertainty. Also, it is more probable that smart ads are better but we are not completely sure about it, since the two posteriors overlap. To find out, we will have to calculate the posterior difference between control and experiment retention rates."
      ],
      "metadata": {
        "id": "U4GShtwictv_"
      },
      "id": "U4GShtwictv_"
    },
    {
      "cell_type": "code",
      "source": [
        "# Calculate posterior difference and plot it\n",
        "diff = exp_posterior - con_posterior\n",
        "sns.kdeplot(diff, shade=True, label=\"diff\")\n",
        "plt.show()"
      ],
      "metadata": {
        "colab": {
          "base_uri": "https://localhost:8080/",
          "height": 265
        },
        "id": "yag428BogUKg",
        "outputId": "0d8620bf-4b1a-43ba-f327-c727e7250a42"
      },
      "id": "yag428BogUKg",
      "execution_count": 40,
      "outputs": [
        {
          "output_type": "display_data",
          "data": {
            "text/plain": [
              "<Figure size 432x288 with 1 Axes>"
            ],
            "image/png": "[encoded data removed]"
          },
          "metadata": {
            "needs_background": "light"
          }
        }
      ]
    },
    {
      "cell_type": "markdown",
      "source": [
        "Take a look at the posterior density plot of the difference in click rates: it is very likely positive, indicating that smart ads are likely better. Let's calculate a credible interval for the difference to measure the uncertainty in the estimate."
      ],
      "metadata": {
        "id": "r588lr_Fhp6r"
      },
      "id": "r588lr_Fhp6r"
    },
    {
      "cell_type": "code",
      "source": [
        "# Calculate and print 90% credible interval of posterior difference\n",
        "interval = pm.hdi(diff, hdi_prob=0.9)\n",
        "print(interval)"
      ],
      "metadata": {
        "colab": {
          "base_uri": "https://localhost:8080/"
        },
        "id": "lkbT_2v_ho9o",
        "outputId": "c7c12f9a-4953-494a-d75f-8ac80718adf0"
      },
      "id": "lkbT_2v_ho9o",
      "execution_count": 41,
      "outputs": [
        {
          "output_type": "stream",
          "name": "stdout",
          "text": [
            "[0.00265358 0.02117034]\n"
          ]
        }
      ]
    },
    {
      "cell_type": "markdown",
      "source": [
        "The credible interaval indicates that with 90% probability, the smart ads click rate is up to 2.1 percentage points higher than the one for control. Finally, let's calculate the percentage of cases where this difference is positive, which corresponds to exposed retention rate being higher."
      ],
      "metadata": {
        "id": "WqaytolWrPni"
      },
      "id": "WqaytolWrPni"
    },
    {
      "cell_type": "code",
      "source": [
        "# Calculate and print probability of smart ad being better\n",
        "smart_better_prob = (diff > 0).mean()\n",
        "print(smart_better_prob)"
      ],
      "metadata": {
        "colab": {
          "base_uri": "https://localhost:8080/"
        },
        "id": "OQOyB3FBrl7J",
        "outputId": "e239718a-1e29-4a5f-d134-61c1ca1648d8"
      },
      "id": "OQOyB3FBrl7J",
      "execution_count": 42,
      "outputs": [
        {
          "output_type": "stream",
          "name": "stdout",
          "text": [
            "0.9811\n"
          ]
        }
      ]
    },
    {
      "cell_type": "markdown",
      "source": [
        "Finally, the probability that the clothes click rate is higher is 98%. But there is an approximately 3% chance that actually control ads are better. How great is that risk? How many clicks do we lose if we roll out the smart ads campaign? \n",
        "\n",
        "The answer to this is the expected loss: the average posterior difference between the two retention ratios given that control ads do better. To calculate it, we only need to take the entries in the posterior difference where the control retention rate is higher and compute their average."
      ],
      "metadata": {
        "id": "wN70fYHcseHe"
      },
      "id": "wN70fYHcseHe"
    },
    {
      "cell_type": "code",
      "source": [
        "# Slice diff to take only cases where it is negative\n",
        "loss = diff[diff < 0]\n",
        "\n",
        "# Compute and print expected loss\n",
        "expected_loss = np.mean(loss)\n",
        "print(expected_loss)"
      ],
      "metadata": {
        "colab": {
          "base_uri": "https://localhost:8080/"
        },
        "id": "eYdTMBVfuIvc",
        "outputId": "03a3b9d2-0ee3-4159-df28-b684b42a0f84"
      },
      "id": "eYdTMBVfuIvc",
      "execution_count": 43,
      "outputs": [
        {
          "output_type": "stream",
          "name": "stdout",
          "text": [
            "-0.0019032669112987106\n"
          ]
        }
      ]
    },
    {
      "cell_type": "markdown",
      "source": [
        "This looks good. We can sefely roll out the smart ads campaign to a larger audience because we are 98% sure it has a higher retention rate, and even if the 3% risk of this being a wrong decision materializes, we will only lose 0.2 percentage points in the retention rate, which is a very small risk."
      ],
      "metadata": {
        "id": "9iMsmcRmwJ8s"
      },
      "id": "9iMsmcRmwJ8s"
    }
  ],
  "metadata": {
    "kernelspec": {
      "display_name": "Python 3 (ipykernel)",
      "language": "python",
      "name": "python3"
    },
    "language_info": {
      "codemirror_mode": {
        "name": "ipython",
        "version": 3
      },
      "file_extension": ".py",
      "mimetype": "text/x-python",
      "name": "python",
      "nbconvert_exporter": "python",
      "pygments_lexer": "ipython3",
      "version": "3.9.12"
    },
    "colab": {
      "provenance": []
    }
  },
  "nbformat": 4,
  "nbformat_minor": 5
}